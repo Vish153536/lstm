{
 "cells": [
  {
   "cell_type": "code",
   "execution_count": 55,
   "id": "01dc3cbc-11a9-432f-9064-0a99d5a2018f",
   "metadata": {},
   "outputs": [],
   "source": [
    "import pandas as pd\n",
    "import matplotlib.pyplot as plt \n",
    "import seaborn as sns \n",
    "import numpy as np"
   ]
  },
  {
   "cell_type": "code",
   "execution_count": 56,
   "id": "844c8745-af50-4ed2-b010-b8efbbf842dd",
   "metadata": {},
   "outputs": [],
   "source": [
    "data=pd.read_csv(\"C:/Users/91932\\/Downloads/ADANIPORTS.csv\")"
   ]
  },
  {
   "cell_type": "code",
   "execution_count": 57,
   "id": "bdc067e4-aaac-48ee-a074-36dccab8e744",
   "metadata": {},
   "outputs": [
    {
     "data": {
      "text/html": [
       "<div>\n",
       "<style scoped>\n",
       "    .dataframe tbody tr th:only-of-type {\n",
       "        vertical-align: middle;\n",
       "    }\n",
       "\n",
       "    .dataframe tbody tr th {\n",
       "        vertical-align: top;\n",
       "    }\n",
       "\n",
       "    .dataframe thead th {\n",
       "        text-align: right;\n",
       "    }\n",
       "</style>\n",
       "<table border=\"1\" class=\"dataframe\">\n",
       "  <thead>\n",
       "    <tr style=\"text-align: right;\">\n",
       "      <th></th>\n",
       "      <th>Date</th>\n",
       "      <th>Symbol</th>\n",
       "      <th>Series</th>\n",
       "      <th>Prev Close</th>\n",
       "      <th>Open</th>\n",
       "      <th>High</th>\n",
       "      <th>Low</th>\n",
       "      <th>Last</th>\n",
       "      <th>Close</th>\n",
       "      <th>VWAP</th>\n",
       "      <th>Volume</th>\n",
       "      <th>Turnover</th>\n",
       "      <th>Trades</th>\n",
       "      <th>Deliverable Volume</th>\n",
       "      <th>%Deliverble</th>\n",
       "    </tr>\n",
       "  </thead>\n",
       "  <tbody>\n",
       "    <tr>\n",
       "      <th>0</th>\n",
       "      <td>2007-11-27</td>\n",
       "      <td>MUNDRAPORT</td>\n",
       "      <td>EQ</td>\n",
       "      <td>440.00</td>\n",
       "      <td>770.00</td>\n",
       "      <td>1050.00</td>\n",
       "      <td>770.0</td>\n",
       "      <td>959.0</td>\n",
       "      <td>962.90</td>\n",
       "      <td>984.72</td>\n",
       "      <td>27294366</td>\n",
       "      <td>2.687719e+15</td>\n",
       "      <td>NaN</td>\n",
       "      <td>9859619</td>\n",
       "      <td>0.3612</td>\n",
       "    </tr>\n",
       "    <tr>\n",
       "      <th>1</th>\n",
       "      <td>2007-11-28</td>\n",
       "      <td>MUNDRAPORT</td>\n",
       "      <td>EQ</td>\n",
       "      <td>962.90</td>\n",
       "      <td>984.00</td>\n",
       "      <td>990.00</td>\n",
       "      <td>874.0</td>\n",
       "      <td>885.0</td>\n",
       "      <td>893.90</td>\n",
       "      <td>941.38</td>\n",
       "      <td>4581338</td>\n",
       "      <td>4.312765e+14</td>\n",
       "      <td>NaN</td>\n",
       "      <td>1453278</td>\n",
       "      <td>0.3172</td>\n",
       "    </tr>\n",
       "    <tr>\n",
       "      <th>2</th>\n",
       "      <td>2007-11-29</td>\n",
       "      <td>MUNDRAPORT</td>\n",
       "      <td>EQ</td>\n",
       "      <td>893.90</td>\n",
       "      <td>909.00</td>\n",
       "      <td>914.75</td>\n",
       "      <td>841.0</td>\n",
       "      <td>887.0</td>\n",
       "      <td>884.20</td>\n",
       "      <td>888.09</td>\n",
       "      <td>5124121</td>\n",
       "      <td>4.550658e+14</td>\n",
       "      <td>NaN</td>\n",
       "      <td>1069678</td>\n",
       "      <td>0.2088</td>\n",
       "    </tr>\n",
       "    <tr>\n",
       "      <th>3</th>\n",
       "      <td>2007-11-30</td>\n",
       "      <td>MUNDRAPORT</td>\n",
       "      <td>EQ</td>\n",
       "      <td>884.20</td>\n",
       "      <td>890.00</td>\n",
       "      <td>958.00</td>\n",
       "      <td>890.0</td>\n",
       "      <td>929.0</td>\n",
       "      <td>921.55</td>\n",
       "      <td>929.17</td>\n",
       "      <td>4609762</td>\n",
       "      <td>4.283257e+14</td>\n",
       "      <td>NaN</td>\n",
       "      <td>1260913</td>\n",
       "      <td>0.2735</td>\n",
       "    </tr>\n",
       "    <tr>\n",
       "      <th>4</th>\n",
       "      <td>2007-12-03</td>\n",
       "      <td>MUNDRAPORT</td>\n",
       "      <td>EQ</td>\n",
       "      <td>921.55</td>\n",
       "      <td>939.75</td>\n",
       "      <td>995.00</td>\n",
       "      <td>922.0</td>\n",
       "      <td>980.0</td>\n",
       "      <td>969.30</td>\n",
       "      <td>965.65</td>\n",
       "      <td>2977470</td>\n",
       "      <td>2.875200e+14</td>\n",
       "      <td>NaN</td>\n",
       "      <td>816123</td>\n",
       "      <td>0.2741</td>\n",
       "    </tr>\n",
       "  </tbody>\n",
       "</table>\n",
       "</div>"
      ],
      "text/plain": [
       "         Date      Symbol Series  Prev Close    Open     High    Low   Last  \\\n",
       "0  2007-11-27  MUNDRAPORT     EQ      440.00  770.00  1050.00  770.0  959.0   \n",
       "1  2007-11-28  MUNDRAPORT     EQ      962.90  984.00   990.00  874.0  885.0   \n",
       "2  2007-11-29  MUNDRAPORT     EQ      893.90  909.00   914.75  841.0  887.0   \n",
       "3  2007-11-30  MUNDRAPORT     EQ      884.20  890.00   958.00  890.0  929.0   \n",
       "4  2007-12-03  MUNDRAPORT     EQ      921.55  939.75   995.00  922.0  980.0   \n",
       "\n",
       "    Close    VWAP    Volume      Turnover  Trades  Deliverable Volume  \\\n",
       "0  962.90  984.72  27294366  2.687719e+15     NaN             9859619   \n",
       "1  893.90  941.38   4581338  4.312765e+14     NaN             1453278   \n",
       "2  884.20  888.09   5124121  4.550658e+14     NaN             1069678   \n",
       "3  921.55  929.17   4609762  4.283257e+14     NaN             1260913   \n",
       "4  969.30  965.65   2977470  2.875200e+14     NaN              816123   \n",
       "\n",
       "   %Deliverble  \n",
       "0       0.3612  \n",
       "1       0.3172  \n",
       "2       0.2088  \n",
       "3       0.2735  \n",
       "4       0.2741  "
      ]
     },
     "execution_count": 57,
     "metadata": {},
     "output_type": "execute_result"
    }
   ],
   "source": [
    "data.head()"
   ]
  },
  {
   "cell_type": "code",
   "execution_count": 140,
   "id": "21d00e49-90cb-4cf4-9f44-26a1a2e5cdbe",
   "metadata": {},
   "outputs": [
    {
     "data": {
      "text/html": [
       "<div>\n",
       "<style scoped>\n",
       "    .dataframe tbody tr th:only-of-type {\n",
       "        vertical-align: middle;\n",
       "    }\n",
       "\n",
       "    .dataframe tbody tr th {\n",
       "        vertical-align: top;\n",
       "    }\n",
       "\n",
       "    .dataframe thead th {\n",
       "        text-align: right;\n",
       "    }\n",
       "</style>\n",
       "<table border=\"1\" class=\"dataframe\">\n",
       "  <thead>\n",
       "    <tr style=\"text-align: right;\">\n",
       "      <th></th>\n",
       "      <th>Close</th>\n",
       "    </tr>\n",
       "  </thead>\n",
       "  <tbody>\n",
       "    <tr>\n",
       "      <th>0</th>\n",
       "      <td>962.90</td>\n",
       "    </tr>\n",
       "    <tr>\n",
       "      <th>1</th>\n",
       "      <td>893.90</td>\n",
       "    </tr>\n",
       "    <tr>\n",
       "      <th>2</th>\n",
       "      <td>884.20</td>\n",
       "    </tr>\n",
       "    <tr>\n",
       "      <th>3</th>\n",
       "      <td>921.55</td>\n",
       "    </tr>\n",
       "    <tr>\n",
       "      <th>4</th>\n",
       "      <td>969.30</td>\n",
       "    </tr>\n",
       "    <tr>\n",
       "      <th>5</th>\n",
       "      <td>1041.45</td>\n",
       "    </tr>\n",
       "    <tr>\n",
       "      <th>6</th>\n",
       "      <td>1082.45</td>\n",
       "    </tr>\n",
       "    <tr>\n",
       "      <th>7</th>\n",
       "      <td>1081.30</td>\n",
       "    </tr>\n",
       "    <tr>\n",
       "      <th>8</th>\n",
       "      <td>1102.40</td>\n",
       "    </tr>\n",
       "    <tr>\n",
       "      <th>9</th>\n",
       "      <td>1075.40</td>\n",
       "    </tr>\n",
       "  </tbody>\n",
       "</table>\n",
       "</div>"
      ],
      "text/plain": [
       "     Close\n",
       "0   962.90\n",
       "1   893.90\n",
       "2   884.20\n",
       "3   921.55\n",
       "4   969.30\n",
       "5  1041.45\n",
       "6  1082.45\n",
       "7  1081.30\n",
       "8  1102.40\n",
       "9  1075.40"
      ]
     },
     "execution_count": 140,
     "metadata": {},
     "output_type": "execute_result"
    }
   ],
   "source": [
    "df2=data.reset_index()[['Close']]\n",
    "df2.head(10)"
   ]
  },
  {
   "cell_type": "code",
   "execution_count": 141,
   "id": "88b5d9bb-4926-4bda-b0b1-04416bbf3208",
   "metadata": {},
   "outputs": [
    {
     "data": {
      "text/plain": [
       "[<matplotlib.lines.Line2D at 0x20d9a9c0040>]"
      ]
     },
     "execution_count": 141,
     "metadata": {},
     "output_type": "execute_result"
    },
    {
     "data": {
      "image/png": "[encoded data removed]",
      "text/plain": [
       "<Figure size 432x288 with 1 Axes>"
      ]
     },
     "metadata": {
      "needs_background": "light"
     },
     "output_type": "display_data"
    }
   ],
   "source": [
    "plt.plot(df2)"
   ]
  },
  {
   "cell_type": "code",
   "execution_count": 142,
   "id": "eafb9aa4-2acb-4988-974e-3cac35caaf1b",
   "metadata": {},
   "outputs": [],
   "source": [
    "from sklearn.preprocessing import MinMaxScaler"
   ]
  },
  {
   "cell_type": "code",
   "execution_count": 143,
   "id": "ab72a522-2b6a-49ca-9c7b-406794415d6d",
   "metadata": {},
   "outputs": [],
   "source": [
    "scaler=MinMaxScaler()"
   ]
  },
  {
   "cell_type": "code",
   "execution_count": 175,
   "id": "bc1318ac-7a4b-4731-b8b5-b5a05fb17259",
   "metadata": {},
   "outputs": [],
   "source": [
    "\n",
    "df1=scaler.fit_transform(np.array(df2).reshape(-1,1))"
   ]
  },
  {
   "cell_type": "code",
   "execution_count": 176,
   "id": "56253dc3-faa7-4fdc-aecf-cd84afcd2b93",
   "metadata": {},
   "outputs": [
    {
     "data": {
      "text/plain": [
       "(3322, 1)"
      ]
     },
     "execution_count": 176,
     "metadata": {},
     "output_type": "execute_result"
    }
   ],
   "source": [
    "df1.shape"
   ]
  },
  {
   "cell_type": "code",
   "execution_count": null,
   "id": "7c9a23cd-ef9a-4049-b61f-57ae029d5c8e",
   "metadata": {},
   "outputs": [],
   "source": []
  },
  {
   "cell_type": "code",
   "execution_count": 145,
   "id": "86284d5a-6b00-47ed-8782-d03b9144ad87",
   "metadata": {},
   "outputs": [],
   "source": [
    "from sklearn.model_selection import train_test_split"
   ]
  },
  {
   "cell_type": "code",
   "execution_count": 189,
   "id": "89106cc7-714b-472a-8197-830b63c66cef",
   "metadata": {},
   "outputs": [],
   "source": [
    "train_data,test_data=train_test_split(df1,test_size=0.5)"
   ]
  },
  {
   "cell_type": "code",
   "execution_count": 190,
   "id": "14ce6b89-265e-4d70-8061-dee591667b69",
   "metadata": {},
   "outputs": [
    {
     "data": {
      "text/plain": [
       "(1661, 1661)"
      ]
     },
     "execution_count": 190,
     "metadata": {},
     "output_type": "execute_result"
    }
   ],
   "source": [
    "len(train_data) , len(test_data)"
   ]
  },
  {
   "cell_type": "code",
   "execution_count": 13,
   "id": "068536bb-fa33-429a-bf98-f6dc2dc95b48",
   "metadata": {},
   "outputs": [],
   "source": []
  },
  {
   "cell_type": "code",
   "execution_count": 212,
   "id": "67a04245-8899-444e-a6e5-6ae42e571c2d",
   "metadata": {},
   "outputs": [],
   "source": [
    "from keras.preprocessing.sequence import TimeseriesGenerator"
   ]
  },
  {
   "cell_type": "code",
   "execution_count": 217,
   "id": "86d3eb30-a160-4160-a724-53765493dfb1",
   "metadata": {},
   "outputs": [
    {
     "data": {
      "text/plain": [
       "(1661, 1)"
      ]
     },
     "execution_count": 217,
     "metadata": {},
     "output_type": "execute_result"
    }
   ],
   "source": [
    "\n",
    "n_input=12\n",
    "n_features =1\n",
    "\n",
    "\n",
    "generator=TimeseriesGenerator(train_data,train_data,length=n_input,batch_size=1)\n",
    "train_data.shape"
   ]
  },
  {
   "cell_type": "code",
   "execution_count": 193,
   "id": "ebf67220-a7c0-42f7-80b6-9380c38c1e24",
   "metadata": {},
   "outputs": [],
   "source": [
    "x_train=np.array(x_train)\n",
    "y_train=np.array(y_train)\n",
    "\n",
    "#x_train=x_train.reshape(x_train.shape[0],x_train.shape[1],1)"
   ]
  },
  {
   "cell_type": "code",
   "execution_count": 194,
   "id": "0f477c51-08b3-4d77-ade4-4c7663cc3493",
   "metadata": {},
   "outputs": [
    {
     "data": {
      "text/plain": [
       "((1601, 60, 1), (1601,))"
      ]
     },
     "execution_count": 194,
     "metadata": {},
     "output_type": "execute_result"
    }
   ],
   "source": [
    "x_train.shape ,y_train.shape  # it will train 60 days and gie on the basis og 60 days "
   ]
  },
  {
   "cell_type": "code",
   "execution_count": 195,
   "id": "ec21892a-4812-444e-b3cf-b0fc9ae8e08e",
   "metadata": {},
   "outputs": [],
   "source": [
    "from tensorflow.keras import Sequential\n",
    "from tensorflow.keras.layers import Dense ,LSTM,Dropout\n",
    "\n",
    "\n"
   ]
  },
  {
   "cell_type": "code",
   "execution_count": 196,
   "id": "68c9e4af-4add-4a06-ad89-f95bc98baf10",
   "metadata": {},
   "outputs": [],
   "source": [
    "models=Sequential()\n",
    "models.add(LSTM(units=50,return_sequences=True,input_shape=(60,1)))\n",
    "models.add(Dropout(0.2))\n",
    "\n",
    "\n",
    "models.add(LSTM(units=50,return_sequences=True))\n",
    "models.add(Dropout(0.3))\n",
    "          \n",
    "models.add(LSTM(units=50,return_sequences=True))\n",
    "models.add(Dropout(0.4))\n",
    "          \n",
    "models.add(LSTM(units=50,return_sequences=True))\n",
    "models.add(Dropout(0.5))\n",
    "\n",
    "models.add(Dense(units=1))"
   ]
  },
  {
   "cell_type": "code",
   "execution_count": 197,
   "id": "c57d3596-c037-4d35-8541-c973d2261a86",
   "metadata": {},
   "outputs": [
    {
     "name": "stdout",
     "output_type": "stream",
     "text": [
      "Model: \"sequential_16\"\n",
      "_________________________________________________________________\n",
      " Layer (type)                Output Shape              Param #   \n",
      "=================================================================\n",
      " lstm_58 (LSTM)              (None, 60, 50)            10400     \n",
      "                                                                 \n",
      " dropout_57 (Dropout)        (None, 60, 50)            0         \n",
      "                                                                 \n",
      " lstm_59 (LSTM)              (None, 60, 50)            20200     \n",
      "                                                                 \n",
      " dropout_58 (Dropout)        (None, 60, 50)            0         \n",
      "                                                                 \n",
      " lstm_60 (LSTM)              (None, 60, 50)            20200     \n",
      "                                                                 \n",
      " dropout_59 (Dropout)        (None, 60, 50)            0         \n",
      "                                                                 \n",
      " lstm_61 (LSTM)              (None, 60, 50)            20200     \n",
      "                                                                 \n",
      " dropout_60 (Dropout)        (None, 60, 50)            0         \n",
      "                                                                 \n",
      " dense_14 (Dense)            (None, 60, 1)             51        \n",
      "                                                                 \n",
      "=================================================================\n",
      "Total params: 71,051\n",
      "Trainable params: 71,051\n",
      "Non-trainable params: 0\n",
      "_________________________________________________________________\n"
     ]
    }
   ],
   "source": [
    "models.summary()\n"
   ]
  },
  {
   "cell_type": "code",
   "execution_count": 198,
   "id": "d5d0577c-cf2b-40e7-82dd-375b088cba20",
   "metadata": {},
   "outputs": [],
   "source": [
    "models.compile(optimizer='adam',loss='mean_squared_error')"
   ]
  },
  {
   "cell_type": "code",
   "execution_count": 202,
   "id": "7f3298b4-9904-4b19-982e-74ee4d515ecb",
   "metadata": {},
   "outputs": [
    {
     "name": "stdout",
     "output_type": "stream",
     "text": [
      "Epoch 1/15\n",
      "51/51 [==============================] - 15s 111ms/step - loss: 0.0314\n",
      "Epoch 2/15\n",
      "51/51 [==============================] - 6s 110ms/step - loss: 0.0276\n",
      "Epoch 3/15\n",
      "51/51 [==============================] - 6s 115ms/step - loss: 0.0274\n",
      "Epoch 4/15\n",
      "51/51 [==============================] - 6s 124ms/step - loss: 0.0272\n",
      "Epoch 5/15\n",
      "51/51 [==============================] - 6s 123ms/step - loss: 0.0268\n",
      "Epoch 6/15\n",
      "51/51 [==============================] - 6s 114ms/step - loss: 0.0270\n",
      "Epoch 7/15\n",
      "51/51 [==============================] - 7s 140ms/step - loss: 0.0267\n",
      "Epoch 8/15\n",
      "51/51 [==============================] - 6s 123ms/step - loss: 0.0266\n",
      "Epoch 9/15\n",
      "51/51 [==============================] - 6s 109ms/step - loss: 0.0265\n",
      "Epoch 10/15\n",
      "51/51 [==============================] - 6s 120ms/step - loss: 0.0266\n",
      "Epoch 11/15\n",
      "51/51 [==============================] - 6s 113ms/step - loss: 0.0264\n",
      "Epoch 12/15\n",
      "51/51 [==============================] - 6s 114ms/step - loss: 0.0264\n",
      "Epoch 13/15\n",
      "51/51 [==============================] - 7s 133ms/step - loss: 0.0264\n",
      "Epoch 14/15\n",
      "51/51 [==============================] - 6s 121ms/step - loss: 0.0264\n",
      "Epoch 15/15\n",
      "51/51 [==============================] - 6s 113ms/step - loss: 0.0263\n"
     ]
    },
    {
     "data": {
      "text/plain": [
       "<keras.callbacks.History at 0x20dabae55e0>"
      ]
     },
     "execution_count": 202,
     "metadata": {},
     "output_type": "execute_result"
    }
   ],
   "source": [
    "models.fit(x_train,y_train,epochs=15)"
   ]
  },
  {
   "cell_type": "code",
   "execution_count": null,
   "id": "397f3268-a0da-4e1e-ab09-b4ca23035ee5",
   "metadata": {},
   "outputs": [],
   "source": []
  },
  {
   "cell_type": "code",
   "execution_count": 209,
   "id": "876f350d-5eb5-46e4-bb60-9110b33f5886",
   "metadata": {},
   "outputs": [],
   "source": [
    "x_test=[]\n",
    "y_test=[]\n",
    "\n",
    "for i in range(60,test_data.shape[0]):\n",
    "    x_test.append(test_data[i-60:i,0])\n",
    "    y_test.append(test_data[i,0])\n",
    "    \n",
    "    \n",
    " "
   ]
  },
  {
   "cell_type": "code",
   "execution_count": 210,
   "id": "c14737a0-6a38-49c8-a7e8-a97ce91543d4",
   "metadata": {},
   "outputs": [
    {
     "data": {
      "text/plain": [
       "(1601, 60, 1)"
      ]
     },
     "execution_count": 210,
     "metadata": {},
     "output_type": "execute_result"
    }
   ],
   "source": [
    "x_test=np.array(x_test)\n",
    "y_test=np.array(y_test)\n",
    "x_test.shape\n",
    "y_test.shape\n",
    "#x_test.shape\n",
    "x_test=x_test.reshape(x_test.shape[0],x_test.shape[1],1)\n",
    "x_test.shape"
   ]
  },
  {
   "cell_type": "code",
   "execution_count": 211,
   "id": "18f4151c-e0eb-4314-b436-fb28eaff23e6",
   "metadata": {},
   "outputs": [
    {
     "data": {
      "text/plain": [
       "(1601, 60, 1)"
      ]
     },
     "execution_count": 211,
     "metadata": {},
     "output_type": "execute_result"
    }
   ],
   "source": [
    "y_pred=models.predict(x_test)\n",
    "y_pred\n",
    "#y_pred=y_predsss.reshape(-1,)\n",
    "y_pred.shape"
   ]
  },
  {
   "cell_type": "code",
   "execution_count": 30,
   "id": "bf5f1c62-52f9-4f03-84a6-cfff2cadef38",
   "metadata": {},
   "outputs": [],
   "source": [
    "scaler.scale_\n",
    "scale=1/0.00083372"
   ]
  },
  {
   "cell_type": "code",
   "execution_count": 31,
   "id": "ca23c868-fca9-476b-90ee-d82f1aef452b",
   "metadata": {},
   "outputs": [],
   "source": [
    "\n",
    "y_preds=y_pred*scale\n",
    "y_tests=y_test*scale"
   ]
  },
  {
   "cell_type": "code",
   "execution_count": 32,
   "id": "c37cfb36-afc5-432b-96e0-68a56894b0e4",
   "metadata": {},
   "outputs": [
    {
     "data": {
      "text/plain": [
       "(56220,)"
      ]
     },
     "execution_count": 32,
     "metadata": {},
     "output_type": "execute_result"
    }
   ],
   "source": [
    "#normal_value\n",
    "y_tests.shape\n",
    "y_preds.shape"
   ]
  },
  {
   "cell_type": "code",
   "execution_count": 34,
   "id": "630def89-83c3-4f8d-a859-2e0ebd086342",
   "metadata": {},
   "outputs": [
    {
     "data": {
      "image/png": "[encoded data removed]",
      "text/plain": [
       "<Figure size 1440x720 with 1 Axes>"
      ]
     },
     "metadata": {
      "needs_background": "light"
     },
     "output_type": "display_data"
    }
   ],
   "source": [
    "plt.figure(figsize=(20,10))\n",
    "plt.plot(y_tests,color=\"green\",label=\"actual_value\")\n",
    "plt.plot(y_preds,color='blue',label=\"predicted data\")\n",
    "plt.xlabel('time')\n",
    "plt.ylabel('adani stock price')\n",
    "plt.legend()\n",
    "plt.show()"
   ]
  },
  {
   "cell_type": "code",
   "execution_count": null,
   "id": "dbf3ceba-8149-4a3b-9d29-09b09c9c8b5b",
   "metadata": {},
   "outputs": [],
   "source": [
    "from sklearn.metrics import mean_squared_error\n",
    "mean_squared_error(y_pred,y_test)"
   ]
  },
  {
   "cell_type": "code",
   "execution_count": null,
   "id": "62802917-2db9-457e-9f5d-4d2541e3f6d8",
   "metadata": {},
   "outputs": [],
   "source": [
    "vv=[0.33,0.44,0.65,0.67,0.677,0.777,0.6767,0.554,0.554,0.4545,0.4646,0.777,0.444,0.44,0.77,0.33,0.111,0.455,0.433,0.989]\n",
    "\n",
    "\n",
    "vv=np.array(vv)\n",
    "vv=vv.reshape(-1,1)"
   ]
  },
  {
   "cell_type": "code",
   "execution_count": null,
   "id": "4b5bc431-7f8b-4c0c-9e5b-e6ab3747bf38",
   "metadata": {},
   "outputs": [],
   "source": [
    "bh=[]\n",
    "\n"
   ]
  },
  {
   "cell_type": "code",
   "execution_count": null,
   "id": "7717de6c-e285-4207-9d88-844bc5ae1217",
   "metadata": {},
   "outputs": [],
   "source": [
    "\n",
    "\n",
    "for i in range(20,vv.shape[0]):\n",
    "    bh.append(vv[i-20:i])\n",
    "\n",
    "    \n",
    "    \n",
    "bh=np.array(bh)\n",
    "\n",
    "#model.predict(vv)    "
   ]
  },
  {
   "cell_type": "code",
   "execution_count": null,
   "id": "0223d56f-4757-43a9-b371-1b14b0decea7",
   "metadata": {},
   "outputs": [],
   "source": [
    "bh.shape"
   ]
  },
  {
   "cell_type": "code",
   "execution_count": null,
   "id": "eb80c602-40f8-4acb-bce1-5b5579a9b646",
   "metadata": {},
   "outputs": [],
   "source": [
    "model.predict([0.555])"
   ]
  },
  {
   "cell_type": "code",
   "execution_count": 1,
   "id": "559ba27d-5f79-4835-892f-531c0a3602b2",
   "metadata": {},
   "outputs": [],
   "source": [
    "import pandas as pd \n",
    "import matplotlib.pyplot as plt\n",
    "import tensorflow as tf"
   ]
  },
  {
   "cell_type": "code",
   "execution_count": 4,
   "id": "7b3ab4cf-4022-4997-8cb7-c8039b7f4767",
   "metadata": {},
   "outputs": [],
   "source": [
    "dataset=tf.data.Dataset.range(10)\n",
    "dataset=dataset.window(5,shift=1,drop_remainder=True)"
   ]
  },
  {
   "cell_type": "code",
   "execution_count": 6,
   "id": "a4ac1104-28b1-46ff-8c34-28152b44ea3d",
   "metadata": {},
   "outputs": [
    {
     "name": "stdout",
     "output_type": "stream",
     "text": [
      "<WindowDataset shapes: DatasetSpec(TensorSpec(shape=(), dtype=tf.int64, name=None), TensorShape([])), types: DatasetSpec(TensorSpec(shape=(), dtype=tf.int64, name=None), TensorShape([]))>\n"
     ]
    }
   ],
   "source": [
    "print(dataset)"
   ]
  },
  {
   "cell_type": "code",
   "execution_count": 8,
   "id": "2f26b785-98f4-40f9-931a-95fe10cf359a",
   "metadata": {},
   "outputs": [],
   "source": [
    "dataset=dataset.flat_map(lambda window: window.batch(5))"
   ]
  },
  {
   "cell_type": "code",
   "execution_count": 10,
   "id": "b7193055-7d40-4f9e-a77d-6ffd4fdc4250",
   "metadata": {},
   "outputs": [
    {
     "name": "stdout",
     "output_type": "stream",
     "text": [
      "<bound method _EagerTensorBase.numpy of <tf.Tensor: shape=(5,), dtype=int64, numpy=array([0, 1, 2, 3, 4], dtype=int64)>>\n",
      "<bound method _EagerTensorBase.numpy of <tf.Tensor: shape=(5,), dtype=int64, numpy=array([1, 2, 3, 4, 5], dtype=int64)>>\n",
      "<bound method _EagerTensorBase.numpy of <tf.Tensor: shape=(5,), dtype=int64, numpy=array([2, 3, 4, 5, 6], dtype=int64)>>\n",
      "<bound method _EagerTensorBase.numpy of <tf.Tensor: shape=(5,), dtype=int64, numpy=array([3, 4, 5, 6, 7], dtype=int64)>>\n",
      "<bound method _EagerTensorBase.numpy of <tf.Tensor: shape=(5,), dtype=int64, numpy=array([4, 5, 6, 7, 8], dtype=int64)>>\n",
      "<bound method _EagerTensorBase.numpy of <tf.Tensor: shape=(5,), dtype=int64, numpy=array([5, 6, 7, 8, 9], dtype=int64)>>\n"
     ]
    }
   ],
   "source": [
    "for x in dataset:\n",
    "    print(x.numpy)"
   ]
  },
  {
   "cell_type": "code",
   "execution_count": 12,
   "id": "8ff502ea-3d44-4779-8dab-46fe44c90891",
   "metadata": {},
   "outputs": [],
   "source": [
    "dataset=dataset.map(lambda window:(window[:-1],window[-1]))"
   ]
  },
  {
   "cell_type": "code",
   "execution_count": 15,
   "id": "ef547307-4283-4913-a08e-79d63de43f0f",
   "metadata": {},
   "outputs": [
    {
     "name": "stdout",
     "output_type": "stream",
     "text": [
      "tf.Tensor([0 1 2 3], shape=(4,), dtype=int64) tf.Tensor(4, shape=(), dtype=int64)\n",
      "tf.Tensor([1 2 3 4], shape=(4,), dtype=int64) tf.Tensor(5, shape=(), dtype=int64)\n",
      "tf.Tensor([2 3 4 5], shape=(4,), dtype=int64) tf.Tensor(6, shape=(), dtype=int64)\n",
      "tf.Tensor([3 4 5 6], shape=(4,), dtype=int64) tf.Tensor(7, shape=(), dtype=int64)\n",
      "tf.Tensor([4 5 6 7], shape=(4,), dtype=int64) tf.Tensor(8, shape=(), dtype=int64)\n",
      "tf.Tensor([5 6 7 8], shape=(4,), dtype=int64) tf.Tensor(9, shape=(), dtype=int64)\n"
     ]
    }
   ],
   "source": [
    "for x,y in dataset:\n",
    "    print(x,y)"
   ]
  },
  {
   "cell_type": "code",
   "execution_count": 17,
   "id": "a54190f0-0c29-4db6-909b-d185fee79148",
   "metadata": {},
   "outputs": [
    {
     "name": "stdout",
     "output_type": "stream",
     "text": [
      "tf.Tensor([1 2 3 4], shape=(4,), dtype=int64) tf.Tensor(5, shape=(), dtype=int64)\n",
      "tf.Tensor([0 1 2 3], shape=(4,), dtype=int64) tf.Tensor(4, shape=(), dtype=int64)\n",
      "tf.Tensor([2 3 4 5], shape=(4,), dtype=int64) tf.Tensor(6, shape=(), dtype=int64)\n",
      "tf.Tensor([3 4 5 6], shape=(4,), dtype=int64) tf.Tensor(7, shape=(), dtype=int64)\n",
      "tf.Tensor([5 6 7 8], shape=(4,), dtype=int64) tf.Tensor(9, shape=(), dtype=int64)\n",
      "tf.Tensor([4 5 6 7], shape=(4,), dtype=int64) tf.Tensor(8, shape=(), dtype=int64)\n"
     ]
    }
   ],
   "source": [
    "dataset=dataset.shuffle(buffer_size=10)\n",
    "for x,y in dataset:\n",
    "    print(x,y)"
   ]
  },
  {
   "cell_type": "code",
   "execution_count": 19,
   "id": "40ba9a37-ccc9-493a-b8dc-0a8e7f334d96",
   "metadata": {},
   "outputs": [
    {
     "name": "stdout",
     "output_type": "stream",
     "text": [
      "x = [[5 6 7 8]\n",
      " [1 2 3 4]]\n",
      "y = [9 5]\n",
      "x = [[0 1 2 3]\n",
      " [2 3 4 5]]\n",
      "y = [4 6]\n",
      "x = [[4 5 6 7]\n",
      " [3 4 5 6]]\n",
      "y = [8 7]\n"
     ]
    }
   ],
   "source": [
    "dataset=dataset.batch(2).prefetch(1)\n",
    "\n",
    "for x , y in dataset:\n",
    "    print('x =',x.numpy())\n",
    "    print('y =',y.numpy())"
   ]
  },
  {
   "cell_type": "code",
   "execution_count": 22,
   "id": "7e5e9c2c-724b-4473-a6cd-0a01ff9cc5e1",
   "metadata": {},
   "outputs": [],
   "source": [
    "def windowed_dataset(series,window_size,batch_size,shuffle_buffer):\n",
    "    dataset=tf.Data.Dataset.from_tensor_slices(series)\n",
    "    dataset=dataset.flat_map(lambda window:window.batch(window_size+1))\n",
    "    dataset=dataset.shuffle(shuffle_buffer).map(lambda window: (window[:-1],window[-1]))\n",
    "    dataset=dataset.batch(batch_size).prefetch(1)\n",
    "    return dataset"
   ]
  },
  {
   "cell_type": "code",
   "execution_count": 30,
   "id": "7b6f0860-5200-4fe9-b420-80c11ec6c94d",
   "metadata": {},
   "outputs": [
    {
     "ename": "NameError",
     "evalue": "name 'trend' is not defined",
     "output_type": "error",
     "traceback": [
      "\u001b[1;31m---------------------------------------------------------------------------\u001b[0m",
      "\u001b[1;31mNameError\u001b[0m                                 Traceback (most recent call last)",
      "\u001b[1;32m<ipython-input-30-e786df3d4815>\u001b[0m in \u001b[0;36m<module>\u001b[1;34m\u001b[0m\n\u001b[0;32m     11\u001b[0m \u001b[1;33m\u001b[0m\u001b[0m\n\u001b[0;32m     12\u001b[0m \u001b[1;31m# Create the series\u001b[0m\u001b[1;33m\u001b[0m\u001b[1;33m\u001b[0m\u001b[1;33m\u001b[0m\u001b[0m\n\u001b[1;32m---> 13\u001b[1;33m \u001b[0mseries\u001b[0m \u001b[1;33m=\u001b[0m \u001b[0mbaseline\u001b[0m \u001b[1;33m+\u001b[0m \u001b[0mtrend\u001b[0m\u001b[1;33m(\u001b[0m\u001b[0mtime\u001b[0m\u001b[1;33m,\u001b[0m \u001b[0mslope\u001b[0m\u001b[1;33m)\u001b[0m \u001b[1;33m+\u001b[0m \u001b[0mseasonality\u001b[0m\u001b[1;33m(\u001b[0m\u001b[0mtime\u001b[0m\u001b[1;33m,\u001b[0m \u001b[0mperiod\u001b[0m\u001b[1;33m=\u001b[0m\u001b[1;36m365\u001b[0m\u001b[1;33m,\u001b[0m \u001b[0mamplitude\u001b[0m\u001b[1;33m=\u001b[0m\u001b[0mamplitude\u001b[0m\u001b[1;33m)\u001b[0m\u001b[1;33m\u001b[0m\u001b[1;33m\u001b[0m\u001b[0m\n\u001b[0m\u001b[0;32m     14\u001b[0m \u001b[1;33m\u001b[0m\u001b[0m\n\u001b[0;32m     15\u001b[0m \u001b[1;31m# Update with noise\u001b[0m\u001b[1;33m\u001b[0m\u001b[1;33m\u001b[0m\u001b[1;33m\u001b[0m\u001b[0m\n",
      "\u001b[1;31mNameError\u001b[0m: name 'trend' is not defined"
     ]
    }
   ],
   "source": [
    "import pandas as pd \n",
    "import numpy as np\n",
    "import matplotlib.pyplot as plt\n",
    "\n",
    "\n",
    "time = np.arange(4 * 365 + 1, dtype=\"float32\")\n",
    "baseline = 10\n",
    "amplitude = 40\n",
    "slope = 0.05\n",
    "noise_level = 5\n",
    "\n",
    "# Create the series\n",
    "series = baseline + trend(time, slope) + seasonality(time, period=365, amplitude=amplitude)\n",
    "\n",
    "# Update with noise\n",
    "series += noise(time, noise_level, seed=42)\n",
    "\n",
    "# Plot the results\n",
    "plot_series(time, series)\n",
    "\n",
    "\n",
    "split_time = 1000\n",
    "\n",
    "# Get the train set \n",
    "time_train = time[:split_time]\n",
    "x_train = series[:split_time]\n",
    "\n",
    "# Get the validation set\n",
    "time_valid = time[split_time:]\n",
    "x_valid = series[split_time:]"
   ]
  },
  {
   "cell_type": "code",
   "execution_count": 25,
   "id": "80323596-9b19-461c-9c6c-3f38e86c1513",
   "metadata": {},
   "outputs": [
    {
     "ename": "NameError",
     "evalue": "name 'series' is not defined",
     "output_type": "error",
     "traceback": [
      "\u001b[1;31m---------------------------------------------------------------------------\u001b[0m",
      "\u001b[1;31mNameError\u001b[0m                                 Traceback (most recent call last)",
      "\u001b[1;32m<ipython-input-25-f5ac6f0463df>\u001b[0m in \u001b[0;36m<module>\u001b[1;34m\u001b[0m\n\u001b[1;32m----> 1\u001b[1;33m \u001b[0mdataset\u001b[0m\u001b[1;33m=\u001b[0m\u001b[0mwindowed_dataset\u001b[0m\u001b[1;33m(\u001b[0m\u001b[0mseries\u001b[0m\u001b[1;33m,\u001b[0m\u001b[0mwindow_size\u001b[0m\u001b[1;33m,\u001b[0m\u001b[0mbatch_size\u001b[0m\u001b[1;33m,\u001b[0m\u001b[0mshuffle_buffer_size\u001b[0m\u001b[1;33m)\u001b[0m\u001b[1;33m\u001b[0m\u001b[1;33m\u001b[0m\u001b[0m\n\u001b[0m\u001b[0;32m      2\u001b[0m \u001b[0ml0\u001b[0m\u001b[1;33m=\u001b[0m\u001b[0mtf\u001b[0m\u001b[1;33m.\u001b[0m\u001b[0mkeras\u001b[0m\u001b[1;33m.\u001b[0m\u001b[0mlayers\u001b[0m\u001b[1;33m.\u001b[0m\u001b[0mDense\u001b[0m\u001b[1;33m(\u001b[0m\u001b[1;36m1\u001b[0m\u001b[1;33m,\u001b[0m\u001b[0minput_shape\u001b[0m\u001b[1;33m=\u001b[0m\u001b[1;33m[\u001b[0m\u001b[0mwindow_size\u001b[0m\u001b[1;33m]\u001b[0m\u001b[1;33m)\u001b[0m\u001b[1;33m\u001b[0m\u001b[1;33m\u001b[0m\u001b[0m\n\u001b[0;32m      3\u001b[0m \u001b[0mmodel\u001b[0m\u001b[1;33m=\u001b[0m\u001b[0mtf\u001b[0m\u001b[1;33m.\u001b[0m\u001b[0mkeras\u001b[0m\u001b[1;33m.\u001b[0m\u001b[0mmodels\u001b[0m\u001b[1;33m.\u001b[0m\u001b[0mSequential\u001b[0m\u001b[1;33m(\u001b[0m\u001b[1;33m[\u001b[0m\u001b[0ml0\u001b[0m\u001b[1;33m]\u001b[0m\u001b[1;33m)\u001b[0m\u001b[1;33m\u001b[0m\u001b[1;33m\u001b[0m\u001b[0m\n",
      "\u001b[1;31mNameError\u001b[0m: name 'series' is not defined"
     ]
    }
   ],
   "source": [
    "dataset=windowed_dataset(series,window_size,batch_size,shuffle_buffer_size)\n",
    "l0=tf.keras.layers.Dense(1,input_shape=[window_size])\n",
    "model=tf.keras.models.Sequential([l0])"
   ]
  },
  {
   "cell_type": "code",
   "execution_count": 31,
   "id": "137355f8-7792-4021-b8e5-4523ebd6c083",
   "metadata": {},
   "outputs": [],
   "source": [
    "import pandas as pd"
   ]
  },
  {
   "cell_type": "code",
   "execution_count": 32,
   "id": "e0e73b9c-8f4a-410c-ade3-bdcec42fe8f1",
   "metadata": {},
   "outputs": [],
   "source": [
    "datas=pd.read_csv(\"C:/Users/91932/anaconda3/pkgs/statsmodels-0.12.2-py38h2bbff1b_0/Lib/site-packages/statsmodels/datasets/sunspots/sunspots.csv\")"
   ]
  },
  {
   "cell_type": "code",
   "execution_count": 34,
   "id": "7efcf4e7-d802-4c6b-9550-2c440097c04d",
   "metadata": {},
   "outputs": [],
   "source": [
    "data=pd.read_csv(\"C:/Users/91932/Downloads/Sunspots.csv\")"
   ]
  },
  {
   "cell_type": "code",
   "execution_count": 35,
   "id": "c5ace3e5-aa03-4c98-a922-2189c1412099",
   "metadata": {},
   "outputs": [
    {
     "data": {
      "text/html": [
       "<div>\n",
       "<style scoped>\n",
       "    .dataframe tbody tr th:only-of-type {\n",
       "        vertical-align: middle;\n",
       "    }\n",
       "\n",
       "    .dataframe tbody tr th {\n",
       "        vertical-align: top;\n",
       "    }\n",
       "\n",
       "    .dataframe thead th {\n",
       "        text-align: right;\n",
       "    }\n",
       "</style>\n",
       "<table border=\"1\" class=\"dataframe\">\n",
       "  <thead>\n",
       "    <tr style=\"text-align: right;\">\n",
       "      <th></th>\n",
       "      <th>Unnamed: 0</th>\n",
       "      <th>Date</th>\n",
       "      <th>Monthly Mean Total Sunspot Number</th>\n",
       "    </tr>\n",
       "  </thead>\n",
       "  <tbody>\n",
       "    <tr>\n",
       "      <th>0</th>\n",
       "      <td>0</td>\n",
       "      <td>1749-01-31</td>\n",
       "      <td>96.7</td>\n",
       "    </tr>\n",
       "    <tr>\n",
       "      <th>1</th>\n",
       "      <td>1</td>\n",
       "      <td>1749-02-28</td>\n",
       "      <td>104.3</td>\n",
       "    </tr>\n",
       "    <tr>\n",
       "      <th>2</th>\n",
       "      <td>2</td>\n",
       "      <td>1749-03-31</td>\n",
       "      <td>116.7</td>\n",
       "    </tr>\n",
       "    <tr>\n",
       "      <th>3</th>\n",
       "      <td>3</td>\n",
       "      <td>1749-04-30</td>\n",
       "      <td>92.8</td>\n",
       "    </tr>\n",
       "    <tr>\n",
       "      <th>4</th>\n",
       "      <td>4</td>\n",
       "      <td>1749-05-31</td>\n",
       "      <td>141.7</td>\n",
       "    </tr>\n",
       "  </tbody>\n",
       "</table>\n",
       "</div>"
      ],
      "text/plain": [
       "   Unnamed: 0        Date  Monthly Mean Total Sunspot Number\n",
       "0           0  1749-01-31                               96.7\n",
       "1           1  1749-02-28                              104.3\n",
       "2           2  1749-03-31                              116.7\n",
       "3           3  1749-04-30                               92.8\n",
       "4           4  1749-05-31                              141.7"
      ]
     },
     "execution_count": 35,
     "metadata": {},
     "output_type": "execute_result"
    }
   ],
   "source": [
    "data.head()"
   ]
  },
  {
   "cell_type": "code",
   "execution_count": null,
   "id": "9fa2b0a9-86a0-4124-bf0f-5f7620d667d4",
   "metadata": {},
   "outputs": [],
   "source": [
    "data['']"
   ]
  },
  {
   "cell_type": "code",
   "execution_count": null,
   "id": "7c184606-391f-4cf3-820c-e8e66fa9ddf6",
   "metadata": {},
   "outputs": [],
   "source": []
  }
 ],
 "metadata": {
  "kernelspec": {
   "display_name": "Python 3",
   "language": "python",
   "name": "python3"
  },
  "language_info": {
   "codemirror_mode": {
    "name": "ipython",
    "version": 3
   },
   "file_extension": ".py",
   "mimetype": "text/x-python",
   "name": "python",
   "nbconvert_exporter": "python",
   "pygments_lexer": "ipython3",
   "version": "3.8.8"
  }
 },
 "nbformat": 4,
 "nbformat_minor": 5
}
